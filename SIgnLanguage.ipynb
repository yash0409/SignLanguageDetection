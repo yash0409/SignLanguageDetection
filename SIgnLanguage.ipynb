{
 "cells": [
  {
   "cell_type": "code",
   "execution_count": null,
   "id": "71d6e7e1-766c-40fe-b069-dbfae5af5184",
   "metadata": {},
   "outputs": [],
   "source": [
    "#I made this in a rush it can only detect two signs i haven't even tested it properly so sorry for that"
   ]
  },
  {
   "cell_type": "code",
   "execution_count": 32,
   "id": "77841c51-d5b1-4560-a379-149548f89c17",
   "metadata": {},
   "outputs": [],
   "source": [
    "import tensorflow as tf\n",
    "import os\n",
    "import cv2\n",
    "import imghdr"
   ]
  },
  {
   "cell_type": "code",
   "execution_count": 33,
   "id": "a14145b6-fcc3-4eea-b2d8-24e877fbb330",
   "metadata": {},
   "outputs": [
    {
     "name": "stdout",
     "output_type": "stream",
     "text": [
      "['Hello', 'How are you']\n",
      "Image not in ext list dataset\\Hello\\FIHESUK6_Hello_Sign_language_Play_Panel_Front_WEB.jpg.webp\n",
      "Image not in ext list dataset\\Hello\\giphy.gif\n",
      "Image not in ext list dataset\\Hello\\giphy_s.gif\n",
      "Image not in ext list dataset\\Hello\\How-to-Sign-the-Alphabet-in-BSL.webp\n",
      "Image not in ext list dataset\\Hello\\oEX4QSEOvGHFPxAeAJLoCbLAMrrgaEfmgteFxItplv-tej9nj120t-origin.webp\n",
      "Image not in ext list dataset\\Hello\\sign-language-deaf.gif\n",
      "Image not in ext list dataset\\Hello\\sign20language20hello20hero.jpg\n",
      "Image not in ext list dataset\\Hello\\tuna-rungu.png\n",
      "Image not in ext list dataset\\Hello\\Untitled-design.gif\n",
      "Image not in ext list dataset\\Hello\\v4-460px-Sign-Simple-Phrases-in-British-Sign-Language-Step-6-Version-2.jpg.webp\n",
      "Image not in ext list dataset\\Hello\\vector.svg\n",
      "Image not in ext list dataset\\Hello\\vector10.svg\n",
      "Image not in ext list dataset\\Hello\\vector11.svg\n",
      "Image not in ext list dataset\\Hello\\vector2.svg\n",
      "Image not in ext list dataset\\Hello\\vector3.svg\n",
      "Image not in ext list dataset\\Hello\\vector4.svg\n",
      "Image not in ext list dataset\\Hello\\vector5.svg\n",
      "Image not in ext list dataset\\Hello\\vector6.svg\n",
      "Image not in ext list dataset\\Hello\\vector7.svg\n",
      "Image not in ext list dataset\\Hello\\vector8.svg\n",
      "Image not in ext list dataset\\Hello\\vector9.svg\n",
      "Image not in ext list dataset\\How are you\\giphy.gif\n",
      "Image not in ext list dataset\\How are you\\sign20language.gif\n",
      "Image not in ext list dataset\\How are you\\sign20language20fingerspelling.gif\n",
      "Image not in ext list dataset\\How are you\\thank-you.gif\n",
      "Image not in ext list dataset\\How are you\\The-Facts-about-American-Sign-Language.gif\n",
      "Image not in ext list dataset\\How are you\\v4-460px-Sign-Simple-Phrases-in-British-Sign-Language-Step-6-Version-2.jpg.webp\n",
      "Image not in ext list dataset\\How are you\\vector.svg\n",
      "Image not in ext list dataset\\How are you\\vector10.svg\n",
      "Image not in ext list dataset\\How are you\\vector11.svg\n",
      "Image not in ext list dataset\\How are you\\vector12.svg\n",
      "Image not in ext list dataset\\How are you\\vector2.svg\n",
      "Image not in ext list dataset\\How are you\\vector3.svg\n",
      "Image not in ext list dataset\\How are you\\vector4.svg\n",
      "Image not in ext list dataset\\How are you\\vector5.svg\n",
      "Image not in ext list dataset\\How are you\\vector6.svg\n",
      "Image not in ext list dataset\\How are you\\vector7.svg\n",
      "Image not in ext list dataset\\How are you\\vector8.svg\n",
      "Image not in ext list dataset\\How are you\\vector9.svg\n"
     ]
    }
   ],
   "source": [
    "gpus = tf.config.experimental.list_physical_devices('GPU')\n",
    "for gpu in gpus: \n",
    "    tf.config.experimental.set_memory_growth(gpu, True)\n",
    "data_dir='dataset'\n",
    "image_exts=['jpeg','jpg','bmp','png']\n",
    "print(os.listdir(data_dir))\n",
    "for image_class in os.listdir(data_dir): \n",
    "    for image in os.listdir(os.path.join(data_dir, image_class)):\n",
    "        image_path = os.path.join(data_dir, image_class, image)\n",
    "        try: \n",
    "            img = cv2.imread(image_path)\n",
    "            tip = imghdr.what(image_path)\n",
    "            if tip not in image_exts: \n",
    "                print('Image not in ext list {}'.format(image_path))\n",
    "                os.remove(image_path)\n",
    "        except Exception as e: \n",
    "            print('Issue with image {}'.format(image_path))"
   ]
  },
  {
   "cell_type": "code",
   "execution_count": 34,
   "id": "972671de-3293-47c2-b2f0-76ddee8b16f7",
   "metadata": {},
   "outputs": [
    {
     "name": "stdout",
     "output_type": "stream",
     "text": [
      "Found 250 files belonging to 2 classes.\n"
     ]
    }
   ],
   "source": [
    "data = tf.keras.utils.image_dataset_from_directory('dataset')"
   ]
  },
  {
   "cell_type": "code",
   "execution_count": 35,
   "id": "6d2d3784-1cde-421e-be49-5a42b34308bd",
   "metadata": {},
   "outputs": [],
   "source": [
    "data_iterator = data.as_numpy_iterator()"
   ]
  },
  {
   "cell_type": "code",
   "execution_count": 36,
   "id": "e03f0623-d5fd-4346-a01e-b63c2d55b920",
   "metadata": {},
   "outputs": [],
   "source": [
    "data = data.map(lambda x,y: (x/255, y))"
   ]
  },
  {
   "cell_type": "code",
   "execution_count": 37,
   "id": "ffcbfa10-b301-4852-a8f4-da560a2fdb94",
   "metadata": {},
   "outputs": [],
   "source": [
    "batch = data_iterator.next()"
   ]
  },
  {
   "cell_type": "code",
   "execution_count": 38,
   "id": "654fe184-caa3-4d10-ad9d-c0f7cfd16117",
   "metadata": {},
   "outputs": [],
   "source": [
    "train_size = int(len(data)*.7)\n",
    "val_size = int(len(data)*.2)\n",
    "test_size = int(len(data)*.1)"
   ]
  },
  {
   "cell_type": "code",
   "execution_count": 39,
   "id": "58fe3c19-210e-471b-a125-5546df6605e2",
   "metadata": {},
   "outputs": [],
   "source": [
    "from tensorflow.keras.models import Sequential\n",
    "from tensorflow.keras.layers import Conv2D, MaxPooling2D, Dense, Flatten, Dropout"
   ]
  },
  {
   "cell_type": "code",
   "execution_count": 40,
   "id": "846cd389-ef7f-4142-bc3c-5914c5bcde67",
   "metadata": {},
   "outputs": [
    {
     "data": {
      "text/plain": [
       "5"
      ]
     },
     "execution_count": 40,
     "metadata": {},
     "output_type": "execute_result"
    }
   ],
   "source": [
    "train_size"
   ]
  },
  {
   "cell_type": "code",
   "execution_count": 41,
   "id": "7bf41324-700e-496d-923a-96a26277d55e",
   "metadata": {},
   "outputs": [],
   "source": [
    "train = data.take(train_size)\n",
    "val = data.skip(train_size).take(val_size)\n",
    "test = data.skip(train_size+val_size).take(test_size)"
   ]
  },
  {
   "cell_type": "code",
   "execution_count": 42,
   "id": "45305d1c-8c01-4d0c-895a-06449a04ddde",
   "metadata": {},
   "outputs": [],
   "source": [
    "model = Sequential()"
   ]
  },
  {
   "cell_type": "code",
   "execution_count": 43,
   "id": "d40c436d-1767-41af-a4ee-1d2589574197",
   "metadata": {},
   "outputs": [],
   "source": [
    "model.add(Conv2D(16, (3,3), 1, activation='relu', input_shape=(256,256,3)))\n",
    "model.add(MaxPooling2D())\n",
    "model.add(Conv2D(32, (3,3), 1, activation='relu'))\n",
    "model.add(MaxPooling2D())\n",
    "model.add(Conv2D(16, (3,3), 1, activation='relu'))\n",
    "model.add(MaxPooling2D())\n",
    "model.add(Flatten())\n",
    "model.add(Dense(256, activation='relu'))\n",
    "model.add(Dense(1, activation='sigmoid'))"
   ]
  },
  {
   "cell_type": "code",
   "execution_count": 44,
   "id": "e0ec03fb-1101-4ec0-a63a-d81357aab431",
   "metadata": {},
   "outputs": [],
   "source": [
    "model.compile('adam', loss=tf.losses.BinaryCrossentropy(), metrics=['accuracy'])"
   ]
  },
  {
   "cell_type": "code",
   "execution_count": 45,
   "id": "c3ef32b6-8ac4-4a19-a07e-52f6aa081346",
   "metadata": {},
   "outputs": [],
   "source": [
    "logdir='logs'"
   ]
  },
  {
   "cell_type": "code",
   "execution_count": 46,
   "id": "79f640c2-68b3-4d64-bb3c-b5e8073d1583",
   "metadata": {},
   "outputs": [],
   "source": [
    "tensorboard_callback = tf.keras.callbacks.TensorBoard(log_dir=logdir)\n"
   ]
  },
  {
   "cell_type": "code",
   "execution_count": 48,
   "id": "5cbd93a8-b235-4639-9074-5bd3721e5595",
   "metadata": {},
   "outputs": [
    {
     "name": "stdout",
     "output_type": "stream",
     "text": [
      "Epoch 1/50\n",
      "\u001b[1m5/5\u001b[0m \u001b[32m━━━━━━━━━━━━━━━━━━━━\u001b[0m\u001b[37m\u001b[0m \u001b[1m2s\u001b[0m 319ms/step - accuracy: 0.9119 - loss: 0.1766 - val_accuracy: 0.9062 - val_loss: 0.2449\n",
      "Epoch 2/50\n",
      "\u001b[1m5/5\u001b[0m \u001b[32m━━━━━━━━━━━━━━━━━━━━\u001b[0m\u001b[37m\u001b[0m \u001b[1m2s\u001b[0m 321ms/step - accuracy: 0.9352 - loss: 0.2034 - val_accuracy: 0.8750 - val_loss: 0.1607\n",
      "Epoch 3/50\n",
      "\u001b[1m5/5\u001b[0m \u001b[32m━━━━━━━━━━━━━━━━━━━━\u001b[0m\u001b[37m\u001b[0m \u001b[1m2s\u001b[0m 319ms/step - accuracy: 0.9173 - loss: 0.1805 - val_accuracy: 0.9062 - val_loss: 0.2293\n",
      "Epoch 4/50\n",
      "\u001b[1m5/5\u001b[0m \u001b[32m━━━━━━━━━━━━━━━━━━━━\u001b[0m\u001b[37m\u001b[0m \u001b[1m2s\u001b[0m 311ms/step - accuracy: 0.9316 - loss: 0.1764 - val_accuracy: 0.9062 - val_loss: 0.3733\n",
      "Epoch 5/50\n",
      "\u001b[1m5/5\u001b[0m \u001b[32m━━━━━━━━━━━━━━━━━━━━\u001b[0m\u001b[37m\u001b[0m \u001b[1m2s\u001b[0m 306ms/step - accuracy: 0.9502 - loss: 0.1119 - val_accuracy: 0.9375 - val_loss: 0.1400\n",
      "Epoch 6/50\n",
      "\u001b[1m5/5\u001b[0m \u001b[32m━━━━━━━━━━━━━━━━━━━━\u001b[0m\u001b[37m\u001b[0m \u001b[1m2s\u001b[0m 319ms/step - accuracy: 0.9221 - loss: 0.1728 - val_accuracy: 0.8750 - val_loss: 0.1559\n",
      "Epoch 7/50\n",
      "\u001b[1m5/5\u001b[0m \u001b[32m━━━━━━━━━━━━━━━━━━━━\u001b[0m\u001b[37m\u001b[0m \u001b[1m2s\u001b[0m 330ms/step - accuracy: 0.9476 - loss: 0.1306 - val_accuracy: 0.9688 - val_loss: 0.1179\n",
      "Epoch 8/50\n",
      "\u001b[1m5/5\u001b[0m \u001b[32m━━━━━━━━━━━━━━━━━━━━\u001b[0m\u001b[37m\u001b[0m \u001b[1m2s\u001b[0m 316ms/step - accuracy: 0.9281 - loss: 0.1584 - val_accuracy: 0.8438 - val_loss: 0.2114\n",
      "Epoch 9/50\n",
      "\u001b[1m5/5\u001b[0m \u001b[32m━━━━━━━━━━━━━━━━━━━━\u001b[0m\u001b[37m\u001b[0m \u001b[1m2s\u001b[0m 313ms/step - accuracy: 0.9345 - loss: 0.1530 - val_accuracy: 0.8750 - val_loss: 0.2592\n",
      "Epoch 10/50\n",
      "\u001b[1m5/5\u001b[0m \u001b[32m━━━━━━━━━━━━━━━━━━━━\u001b[0m\u001b[37m\u001b[0m \u001b[1m2s\u001b[0m 313ms/step - accuracy: 0.9372 - loss: 0.1474 - val_accuracy: 0.9062 - val_loss: 0.2227\n",
      "Epoch 11/50\n",
      "\u001b[1m5/5\u001b[0m \u001b[32m━━━━━━━━━━━━━━━━━━━━\u001b[0m\u001b[37m\u001b[0m \u001b[1m2s\u001b[0m 307ms/step - accuracy: 0.9303 - loss: 0.1490 - val_accuracy: 0.9062 - val_loss: 0.1016\n",
      "Epoch 12/50\n",
      "\u001b[1m5/5\u001b[0m \u001b[32m━━━━━━━━━━━━━━━━━━━━\u001b[0m\u001b[37m\u001b[0m \u001b[1m2s\u001b[0m 317ms/step - accuracy: 0.9461 - loss: 0.1263 - val_accuracy: 0.9062 - val_loss: 0.1118\n",
      "Epoch 13/50\n",
      "\u001b[1m5/5\u001b[0m \u001b[32m━━━━━━━━━━━━━━━━━━━━\u001b[0m\u001b[37m\u001b[0m \u001b[1m2s\u001b[0m 312ms/step - accuracy: 0.9431 - loss: 0.1541 - val_accuracy: 0.9375 - val_loss: 0.2042\n",
      "Epoch 14/50\n",
      "\u001b[1m5/5\u001b[0m \u001b[32m━━━━━━━━━━━━━━━━━━━━\u001b[0m\u001b[37m\u001b[0m \u001b[1m2s\u001b[0m 312ms/step - accuracy: 0.9398 - loss: 0.1432 - val_accuracy: 0.9688 - val_loss: 0.1167\n",
      "Epoch 15/50\n",
      "\u001b[1m5/5\u001b[0m \u001b[32m━━━━━━━━━━━━━━━━━━━━\u001b[0m\u001b[37m\u001b[0m \u001b[1m2s\u001b[0m 329ms/step - accuracy: 0.8984 - loss: 0.1975 - val_accuracy: 0.9375 - val_loss: 0.1294\n",
      "Epoch 16/50\n",
      "\u001b[1m5/5\u001b[0m \u001b[32m━━━━━━━━━━━━━━━━━━━━\u001b[0m\u001b[37m\u001b[0m \u001b[1m2s\u001b[0m 309ms/step - accuracy: 0.9650 - loss: 0.0990 - val_accuracy: 0.8750 - val_loss: 0.1801\n",
      "Epoch 17/50\n",
      "\u001b[1m5/5\u001b[0m \u001b[32m━━━━━━━━━━━━━━━━━━━━\u001b[0m\u001b[37m\u001b[0m \u001b[1m2s\u001b[0m 307ms/step - accuracy: 0.9282 - loss: 0.1460 - val_accuracy: 0.8750 - val_loss: 0.1437\n",
      "Epoch 18/50\n",
      "\u001b[1m5/5\u001b[0m \u001b[32m━━━━━━━━━━━━━━━━━━━━\u001b[0m\u001b[37m\u001b[0m \u001b[1m2s\u001b[0m 305ms/step - accuracy: 0.9372 - loss: 0.1494 - val_accuracy: 0.9375 - val_loss: 0.1439\n",
      "Epoch 19/50\n",
      "\u001b[1m5/5\u001b[0m \u001b[32m━━━━━━━━━━━━━━━━━━━━\u001b[0m\u001b[37m\u001b[0m \u001b[1m2s\u001b[0m 304ms/step - accuracy: 0.9424 - loss: 0.1171 - val_accuracy: 0.8438 - val_loss: 0.2369\n",
      "Epoch 20/50\n",
      "\u001b[1m5/5\u001b[0m \u001b[32m━━━━━━━━━━━━━━━━━━━━\u001b[0m\u001b[37m\u001b[0m \u001b[1m2s\u001b[0m 300ms/step - accuracy: 0.9286 - loss: 0.1528 - val_accuracy: 1.0000 - val_loss: 0.0389\n",
      "Epoch 21/50\n",
      "\u001b[1m5/5\u001b[0m \u001b[32m━━━━━━━━━━━━━━━━━━━━\u001b[0m\u001b[37m\u001b[0m \u001b[1m2s\u001b[0m 302ms/step - accuracy: 0.9462 - loss: 0.0857 - val_accuracy: 0.9688 - val_loss: 0.0555\n",
      "Epoch 22/50\n",
      "\u001b[1m5/5\u001b[0m \u001b[32m━━━━━━━━━━━━━━━━━━━━\u001b[0m\u001b[37m\u001b[0m \u001b[1m2s\u001b[0m 303ms/step - accuracy: 0.9561 - loss: 0.1079 - val_accuracy: 0.8750 - val_loss: 0.1963\n",
      "Epoch 23/50\n",
      "\u001b[1m5/5\u001b[0m \u001b[32m━━━━━━━━━━━━━━━━━━━━\u001b[0m\u001b[37m\u001b[0m \u001b[1m2s\u001b[0m 305ms/step - accuracy: 0.8881 - loss: 0.1990 - val_accuracy: 0.9375 - val_loss: 0.0885\n",
      "Epoch 24/50\n",
      "\u001b[1m5/5\u001b[0m \u001b[32m━━━━━━━━━━━━━━━━━━━━\u001b[0m\u001b[37m\u001b[0m \u001b[1m2s\u001b[0m 317ms/step - accuracy: 0.9598 - loss: 0.1146 - val_accuracy: 0.9375 - val_loss: 0.1362\n",
      "Epoch 25/50\n",
      "\u001b[1m5/5\u001b[0m \u001b[32m━━━━━━━━━━━━━━━━━━━━\u001b[0m\u001b[37m\u001b[0m \u001b[1m2s\u001b[0m 303ms/step - accuracy: 0.9274 - loss: 0.1463 - val_accuracy: 0.9375 - val_loss: 0.2294\n",
      "Epoch 26/50\n",
      "\u001b[1m5/5\u001b[0m \u001b[32m━━━━━━━━━━━━━━━━━━━━\u001b[0m\u001b[37m\u001b[0m \u001b[1m2s\u001b[0m 310ms/step - accuracy: 0.9264 - loss: 0.1444 - val_accuracy: 0.9375 - val_loss: 0.1590\n",
      "Epoch 27/50\n",
      "\u001b[1m5/5\u001b[0m \u001b[32m━━━━━━━━━━━━━━━━━━━━\u001b[0m\u001b[37m\u001b[0m \u001b[1m2s\u001b[0m 313ms/step - accuracy: 0.9162 - loss: 0.1761 - val_accuracy: 0.9375 - val_loss: 0.1434\n",
      "Epoch 28/50\n",
      "\u001b[1m5/5\u001b[0m \u001b[32m━━━━━━━━━━━━━━━━━━━━\u001b[0m\u001b[37m\u001b[0m \u001b[1m2s\u001b[0m 312ms/step - accuracy: 0.9320 - loss: 0.1618 - val_accuracy: 0.9688 - val_loss: 0.0998\n",
      "Epoch 29/50\n",
      "\u001b[1m5/5\u001b[0m \u001b[32m━━━━━━━━━━━━━━━━━━━━\u001b[0m\u001b[37m\u001b[0m \u001b[1m2s\u001b[0m 300ms/step - accuracy: 0.9314 - loss: 0.1371 - val_accuracy: 0.9062 - val_loss: 0.1490\n",
      "Epoch 30/50\n",
      "\u001b[1m5/5\u001b[0m \u001b[32m━━━━━━━━━━━━━━━━━━━━\u001b[0m\u001b[37m\u001b[0m \u001b[1m2s\u001b[0m 309ms/step - accuracy: 0.9457 - loss: 0.1371 - val_accuracy: 0.9688 - val_loss: 0.1713\n",
      "Epoch 31/50\n",
      "\u001b[1m5/5\u001b[0m \u001b[32m━━━━━━━━━━━━━━━━━━━━\u001b[0m\u001b[37m\u001b[0m \u001b[1m2s\u001b[0m 315ms/step - accuracy: 0.9400 - loss: 0.1147 - val_accuracy: 0.9688 - val_loss: 0.0629\n",
      "Epoch 32/50\n",
      "\u001b[1m5/5\u001b[0m \u001b[32m━━━━━━━━━━━━━━━━━━━━\u001b[0m\u001b[37m\u001b[0m \u001b[1m2s\u001b[0m 326ms/step - accuracy: 0.9594 - loss: 0.1260 - val_accuracy: 0.9688 - val_loss: 0.1311\n",
      "Epoch 33/50\n",
      "\u001b[1m5/5\u001b[0m \u001b[32m━━━━━━━━━━━━━━━━━━━━\u001b[0m\u001b[37m\u001b[0m \u001b[1m2s\u001b[0m 317ms/step - accuracy: 0.9036 - loss: 0.1772 - val_accuracy: 1.0000 - val_loss: 0.0803\n",
      "Epoch 34/50\n",
      "\u001b[1m5/5\u001b[0m \u001b[32m━━━━━━━━━━━━━━━━━━━━\u001b[0m\u001b[37m\u001b[0m \u001b[1m2s\u001b[0m 313ms/step - accuracy: 0.9114 - loss: 0.1777 - val_accuracy: 0.9375 - val_loss: 0.1172\n",
      "Epoch 35/50\n",
      "\u001b[1m5/5\u001b[0m \u001b[32m━━━━━━━━━━━━━━━━━━━━\u001b[0m\u001b[37m\u001b[0m \u001b[1m2s\u001b[0m 309ms/step - accuracy: 0.9303 - loss: 0.1216 - val_accuracy: 0.9688 - val_loss: 0.0773\n",
      "Epoch 36/50\n",
      "\u001b[1m5/5\u001b[0m \u001b[32m━━━━━━━━━━━━━━━━━━━━\u001b[0m\u001b[37m\u001b[0m \u001b[1m2s\u001b[0m 323ms/step - accuracy: 0.9220 - loss: 0.1921 - val_accuracy: 0.9375 - val_loss: 0.1163\n",
      "Epoch 37/50\n",
      "\u001b[1m5/5\u001b[0m \u001b[32m━━━━━━━━━━━━━━━━━━━━\u001b[0m\u001b[37m\u001b[0m \u001b[1m2s\u001b[0m 320ms/step - accuracy: 0.9284 - loss: 0.1188 - val_accuracy: 0.9375 - val_loss: 0.0800\n",
      "Epoch 38/50\n",
      "\u001b[1m5/5\u001b[0m \u001b[32m━━━━━━━━━━━━━━━━━━━━\u001b[0m\u001b[37m\u001b[0m \u001b[1m2s\u001b[0m 314ms/step - accuracy: 0.9500 - loss: 0.1060 - val_accuracy: 0.9062 - val_loss: 0.1295\n",
      "Epoch 39/50\n",
      "\u001b[1m5/5\u001b[0m \u001b[32m━━━━━━━━━━━━━━━━━━━━\u001b[0m\u001b[37m\u001b[0m \u001b[1m2s\u001b[0m 316ms/step - accuracy: 0.9070 - loss: 0.1789 - val_accuracy: 0.9062 - val_loss: 0.2564\n",
      "Epoch 40/50\n",
      "\u001b[1m5/5\u001b[0m \u001b[32m━━━━━━━━━━━━━━━━━━━━\u001b[0m\u001b[37m\u001b[0m \u001b[1m2s\u001b[0m 314ms/step - accuracy: 0.9431 - loss: 0.1589 - val_accuracy: 0.9062 - val_loss: 0.1830\n",
      "Epoch 41/50\n",
      "\u001b[1m5/5\u001b[0m \u001b[32m━━━━━━━━━━━━━━━━━━━━\u001b[0m\u001b[37m\u001b[0m \u001b[1m2s\u001b[0m 318ms/step - accuracy: 0.8971 - loss: 0.1823 - val_accuracy: 0.9375 - val_loss: 0.1112\n",
      "Epoch 42/50\n",
      "\u001b[1m5/5\u001b[0m \u001b[32m━━━━━━━━━━━━━━━━━━━━\u001b[0m\u001b[37m\u001b[0m \u001b[1m2s\u001b[0m 321ms/step - accuracy: 0.9229 - loss: 0.1453 - val_accuracy: 1.0000 - val_loss: 0.0641\n",
      "Epoch 43/50\n",
      "\u001b[1m5/5\u001b[0m \u001b[32m━━━━━━━━━━━━━━━━━━━━\u001b[0m\u001b[37m\u001b[0m \u001b[1m2s\u001b[0m 324ms/step - accuracy: 0.9340 - loss: 0.1111 - val_accuracy: 1.0000 - val_loss: 0.0633\n",
      "Epoch 44/50\n",
      "\u001b[1m5/5\u001b[0m \u001b[32m━━━━━━━━━━━━━━━━━━━━\u001b[0m\u001b[37m\u001b[0m \u001b[1m2s\u001b[0m 323ms/step - accuracy: 0.9476 - loss: 0.1192 - val_accuracy: 0.8750 - val_loss: 0.2056\n",
      "Epoch 45/50\n",
      "\u001b[1m5/5\u001b[0m \u001b[32m━━━━━━━━━━━━━━━━━━━━\u001b[0m\u001b[37m\u001b[0m \u001b[1m2s\u001b[0m 317ms/step - accuracy: 0.9222 - loss: 0.1311 - val_accuracy: 0.9062 - val_loss: 0.1286\n",
      "Epoch 46/50\n",
      "\u001b[1m5/5\u001b[0m \u001b[32m━━━━━━━━━━━━━━━━━━━━\u001b[0m\u001b[37m\u001b[0m \u001b[1m2s\u001b[0m 323ms/step - accuracy: 0.9364 - loss: 0.1068 - val_accuracy: 0.8750 - val_loss: 0.2042\n",
      "Epoch 47/50\n",
      "\u001b[1m5/5\u001b[0m \u001b[32m━━━━━━━━━━━━━━━━━━━━\u001b[0m\u001b[37m\u001b[0m \u001b[1m2s\u001b[0m 318ms/step - accuracy: 0.9602 - loss: 0.1084 - val_accuracy: 0.9688 - val_loss: 0.0755\n",
      "Epoch 48/50\n",
      "\u001b[1m5/5\u001b[0m \u001b[32m━━━━━━━━━━━━━━━━━━━━\u001b[0m\u001b[37m\u001b[0m \u001b[1m2s\u001b[0m 326ms/step - accuracy: 0.9732 - loss: 0.0952 - val_accuracy: 0.9375 - val_loss: 0.1037\n",
      "Epoch 49/50\n",
      "\u001b[1m5/5\u001b[0m \u001b[32m━━━━━━━━━━━━━━━━━━━━\u001b[0m\u001b[37m\u001b[0m \u001b[1m2s\u001b[0m 313ms/step - accuracy: 0.9269 - loss: 0.1226 - val_accuracy: 0.9375 - val_loss: 0.1043\n",
      "Epoch 50/50\n",
      "\u001b[1m5/5\u001b[0m \u001b[32m━━━━━━━━━━━━━━━━━━━━\u001b[0m\u001b[37m\u001b[0m \u001b[1m2s\u001b[0m 328ms/step - accuracy: 0.9367 - loss: 0.1415 - val_accuracy: 0.9375 - val_loss: 0.1172\n"
     ]
    }
   ],
   "source": [
    "\n",
    "hist = model.fit(train, epochs=50, validation_data=val, callbacks=[tensorboard_callback])"
   ]
  },
  {
   "cell_type": "code",
   "execution_count": 49,
   "id": "9b3e319b-5eab-4e5f-9c9c-57308d4fa9f1",
   "metadata": {},
   "outputs": [],
   "source": [
    "from tensorflow.keras.models import load_model"
   ]
  },
  {
   "cell_type": "code",
   "execution_count": 56,
   "id": "96bbaf1f-0edf-4634-a041-53d9194216b9",
   "metadata": {},
   "outputs": [],
   "source": [
    "model.save(\"SignLanguage.keras\")"
   ]
  },
  {
   "cell_type": "code",
   "execution_count": null,
   "id": "06f5ac2c-f1b6-4a93-b322-f570faa354b2",
   "metadata": {},
   "outputs": [],
   "source": []
  }
 ],
 "metadata": {
  "kernelspec": {
   "display_name": "Python 3 (ipykernel)",
   "language": "python",
   "name": "python3"
  },
  "language_info": {
   "codemirror_mode": {
    "name": "ipython",
    "version": 3
   },
   "file_extension": ".py",
   "mimetype": "text/x-python",
   "name": "python",
   "nbconvert_exporter": "python",
   "pygments_lexer": "ipython3",
   "version": "3.11.0"
  }
 },
 "nbformat": 4,
 "nbformat_minor": 5
}
